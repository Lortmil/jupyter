{
 "cells": [
  {
   "cell_type": "markdown",
   "id": "ff05fc88-4610-4f01-b6f3-ce5a8af390d9",
   "metadata": {},
   "source": [
    "# Hey! Welcome to Juypter Lab!"
   ]
  },
  {
   "cell_type": "markdown",
   "id": "d8b413c2-3c43-4ba9-b3e4-c175c2c2965c",
   "metadata": {},
   "source": [
    "## Here's an example of code to scan ports"
   ]
  },
  {
   "cell_type": "code",
   "execution_count": 2,
   "id": "a29fb8ce-2965-431d-9897-5cc4a41db9ab",
   "metadata": {},
   "outputs": [
    {
     "name": "stdout",
     "output_type": "stream",
     "text": [
      "Scanning localhost\n",
      "Port 22: OPEN\n",
      "Port 8000: OPEN\n",
      "Port 8001: OPEN\n",
      "Port 8081: OPEN\n"
     ]
    }
   ],
   "source": [
    "import socket\n",
    "\n",
    "def scan_ports(host, ports_to_scan):\n",
    "    print(f\"Scanning {host}\")\n",
    "    for port in ports_to_scan:\n",
    "        s = socket.socket(socket.AF_INET, socket.SOCK_STREAM)\n",
    "        s.settimeout(1)\n",
    "        result = s.connect_ex((host, port))\n",
    "        if result == 0:\n",
    "            print(f\"Port {port}: OPEN\")\n",
    "        s.close()\n",
    "\n",
    "host = \"localhost\"\n",
    "ports_to_scan = range(20, 9000)\n",
    "scan_ports(host, ports_to_scan)"
   ]
  },
  {
   "cell_type": "markdown",
   "id": "56ef601c-f6eb-4d38-8b15-434e472c3bea",
   "metadata": {},
   "source": [
    "## Possible YARA rules"
   ]
  },
  {
   "cell_type": "code",
   "execution_count": null,
   "id": "652a0beb-31fd-4e47-afd8-80f56dee44b1",
   "metadata": {},
   "outputs": [],
   "source": [
    "import yara\n",
    "rules = yara.compile(filepath='/foo/bar/myrules')\n",
    "rules = yara.compile('/foo/bar/myrules')\n",
    "fh = open('/foo/bar/myrules')\n",
    "rules = yara.compile(file=fh)\n",
    "fh.close()"
   ]
  },
  {
   "cell_type": "code",
   "execution_count": null,
   "id": "a7e2852e-43e4-4b2e-85ff-3c29a0aa3a25",
   "metadata": {},
   "outputs": [],
   "source": []
  }
 ],
 "metadata": {
  "kernelspec": {
   "display_name": "Python 3 (ipykernel)",
   "language": "python",
   "name": "python3"
  },
  "language_info": {
   "codemirror_mode": {
    "name": "ipython",
    "version": 3
   },
   "file_extension": ".py",
   "mimetype": "text/x-python",
   "name": "python",
   "nbconvert_exporter": "python",
   "pygments_lexer": "ipython3",
   "version": "3.8.10"
  }
 },
 "nbformat": 4,
 "nbformat_minor": 5
}
